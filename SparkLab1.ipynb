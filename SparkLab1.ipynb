{
 "cells": [
  {
   "cell_type": "markdown",
   "metadata": {},
   "source": [
    "# Data analysis with Apache Spark - Dataframe 1"
   ]
  },
  {
   "cell_type": "code",
   "execution_count": 1,
   "metadata": {},
   "outputs": [],
   "source": [
    "import findspark"
   ]
  },
  {
   "cell_type": "code",
   "execution_count": 2,
   "metadata": {},
   "outputs": [],
   "source": [
    "findspark.init(\"/home/alumno/spark-3.2.2-bin-hadoop2.7\")\n",
    "from pyspark import SparkContext, SparkConf\n",
    "conf = SparkConf().setAppName(\"intro\").setMaster(\"local\")\n",
    "sc = SparkContext(conf=conf)\n",
    "from pyspark.sql import SparkSession\n",
    "spark = SparkSession(sc)\n"
   ]
  },
  {
   "cell_type": "code",
   "execution_count": 3,
   "metadata": {},
   "outputs": [],
   "source": [
    "c = spark.read.option(\"inferSchema\", \"true\").option(\"header\", \"true\").csv(\"/home/alumno/Descargas/customers.csv\")"
   ]
  },
  {
   "cell_type": "code",
   "execution_count": 4,
   "metadata": {},
   "outputs": [
    {
     "name": "stdout",
     "output_type": "stream",
     "text": [
      "root\n",
      " |-- date: string (nullable = true)\n",
      " |-- time: string (nullable = true)\n",
      " |-- customer: integer (nullable = true)\n",
      " |-- product: integer (nullable = true)\n",
      " |-- quantity: integer (nullable = true)\n",
      " |-- price: integer (nullable = true)\n",
      "\n",
      "+----------+--------+--------+-------+--------+-----+\n",
      "|      date|    time|customer|product|quantity|price|\n",
      "+----------+--------+--------+-------+--------+-----+\n",
      "|05/10/2018| 2:20 PM|     100|      1|      10|  816|\n",
      "|06/10/2018| 3:30 PM|     100|      1|      10|    1|\n",
      "|07/10/2018| 5:20 PM|     100|      1|      10|   10|\n",
      "|04/08/2018|11:38 PM|     100|      2|       8|   79|\n",
      "|25/03/2018| 3:52 AM|     100|      3|       1|   91|\n",
      "+----------+--------+--------+-------+--------+-----+\n",
      "only showing top 5 rows\n",
      "\n"
     ]
    }
   ],
   "source": [
    "c.printSchema()\n",
    "c.show(5)"
   ]
  },
  {
   "cell_type": "markdown",
   "metadata": {},
   "source": [
    "## 1. Easy questions with select and expressions\n",
    "\n",
    "Which are the products in my dataset"
   ]
  },
  {
   "cell_type": "code",
   "execution_count": 5,
   "metadata": {},
   "outputs": [],
   "source": [
    "from pyspark.sql.functions import expr, desc, asc"
   ]
  },
  {
   "cell_type": "code",
   "execution_count": 6,
   "metadata": {},
   "outputs": [
    {
     "name": "stdout",
     "output_type": "stream",
     "text": [
      "+--------+-------+\n",
      "|customer|product|\n",
      "+--------+-------+\n",
      "|     100|      1|\n",
      "|     100|      1|\n",
      "|     100|      1|\n",
      "|     100|      2|\n",
      "|     100|      3|\n",
      "|     100|      4|\n",
      "|     100|      5|\n",
      "|     100|      6|\n",
      "|     100|      7|\n",
      "|     100|      8|\n",
      "+--------+-------+\n",
      "only showing top 10 rows\n",
      "\n",
      "+--------+-------+---+\n",
      "|customer|product|  q|\n",
      "+--------+-------+---+\n",
      "|     100|      1| 10|\n",
      "|     100|      1| 10|\n",
      "|     100|      1| 10|\n",
      "|     100|      2|  8|\n",
      "|     100|      3|  1|\n",
      "|     100|      4|  3|\n",
      "|     100|      5|  8|\n",
      "|     100|      6|  8|\n",
      "|     100|      7|  4|\n",
      "|     100|      8|  5|\n",
      "|     100|      9|  9|\n",
      "|     100|     10|  9|\n",
      "|     100|      1|  3|\n",
      "|     100|      2|  6|\n",
      "|     100|      3|  1|\n",
      "|     100|      4|  7|\n",
      "|     100|      5|  3|\n",
      "|     100|      6|  5|\n",
      "|     100|      7|  7|\n",
      "|     100|      8|  0|\n",
      "+--------+-------+---+\n",
      "only showing top 20 rows\n",
      "\n"
     ]
    }
   ],
   "source": [
    "#select transformation to use 1 or multiple columns\n",
    "c.select(\"customer\", \"product\").show(10)\n",
    "\n",
    "#select expression to change name of a column\n",
    "c.select(expr(\"customer\"), expr(\"product\"), expr(\"quantity as q\")).show()"
   ]
  },
  {
   "cell_type": "markdown",
   "metadata": {},
   "source": [
    "Which are my products and quantities in my dataset?"
   ]
  },
  {
   "cell_type": "code",
   "execution_count": 7,
   "metadata": {},
   "outputs": [
    {
     "name": "stdout",
     "output_type": "stream",
     "text": [
      "+-------+--------+\n",
      "|product|quantity|\n",
      "+-------+--------+\n",
      "|      1|      10|\n",
      "|      1|      10|\n",
      "|      1|      10|\n",
      "|      2|       8|\n",
      "|      3|       1|\n",
      "|      4|       3|\n",
      "|      5|       8|\n",
      "|      6|       8|\n",
      "|      7|       4|\n",
      "|      8|       5|\n",
      "|      9|       9|\n",
      "|     10|       9|\n",
      "|      1|       3|\n",
      "|      2|       6|\n",
      "|      3|       1|\n",
      "|      4|       7|\n",
      "|      5|       3|\n",
      "|      6|       5|\n",
      "|      7|       7|\n",
      "|      8|       0|\n",
      "+-------+--------+\n",
      "only showing top 20 rows\n",
      "\n",
      "+----------+--------+--------+-------+--------+-----+\n",
      "|      date|    time|customer|product|quantity|price|\n",
      "+----------+--------+--------+-------+--------+-----+\n",
      "|05/10/2018| 2:20 PM|     100|      1|      10|  816|\n",
      "|06/10/2018| 3:30 PM|     100|      1|      10|    1|\n",
      "|07/10/2018| 5:20 PM|     100|      1|      10|   10|\n",
      "|04/08/2018|11:38 PM|     100|      2|       8|   79|\n",
      "|25/03/2018| 3:52 AM|     100|      3|       1|   91|\n",
      "|24/07/2018|11:37 AM|     100|      4|       3|   59|\n",
      "|10/01/2018| 9:17 PM|     100|      5|       8|   74|\n",
      "|04/10/2018| 5:05 PM|     100|      6|       8|   33|\n",
      "|10/06/2018| 8:39 PM|     100|      7|       4|   45|\n",
      "|25/12/2017|10:10 AM|     100|      8|       5|   33|\n",
      "|21/05/2018| 6:39 PM|     100|      9|       9|    8|\n",
      "|08/04/2018| 5:02 AM|     100|     10|       9|   98|\n",
      "|13/04/2018|11:55 AM|     100|      1|       3|   55|\n",
      "|19/06/2018| 1:38 PM|     100|      2|       6|   45|\n",
      "|02/07/2018| 4:30 AM|     100|      3|       1|   54|\n",
      "|21/10/2018| 2:49 PM|     100|      4|       7|   79|\n",
      "|11/08/2018| 1:48 PM|     100|      5|       3|   24|\n",
      "|11/05/2018| 3:46 AM|     100|      6|       5|   40|\n",
      "|29/08/2018|11:41 PM|     100|      7|       7|   15|\n",
      "|21/05/2018| 6:16 PM|     100|      8|       0|   92|\n",
      "+----------+--------+--------+-------+--------+-----+\n",
      "only showing top 20 rows\n",
      "\n"
     ]
    }
   ],
   "source": [
    "c.select(\"product\", \"quantity\").show()\n",
    "\n",
    "#whole table\n",
    "c.select(expr(\"*\")).show()"
   ]
  },
  {
   "cell_type": "markdown",
   "metadata": {},
   "source": [
    "Which products have been purchased more than 1 time?"
   ]
  },
  {
   "cell_type": "code",
   "execution_count": 8,
   "metadata": {},
   "outputs": [
    {
     "name": "stdout",
     "output_type": "stream",
     "text": [
      "+--------------+\n",
      "|(quantity > 1)|\n",
      "+--------------+\n",
      "|          true|\n",
      "|          true|\n",
      "|          true|\n",
      "|          true|\n",
      "|         false|\n",
      "+--------------+\n",
      "only showing top 5 rows\n",
      "\n",
      "+-------+--------------+\n",
      "|product|(quantity > 1)|\n",
      "+-------+--------------+\n",
      "|      1|          true|\n",
      "|      1|          true|\n",
      "|      1|          true|\n",
      "|      2|          true|\n",
      "|      3|         false|\n",
      "+-------+--------------+\n",
      "only showing top 5 rows\n",
      "\n",
      "+----------+--------+--------+-------+--------+-----+--------------+\n",
      "|      date|    time|customer|product|quantity|price|(quantity > 1)|\n",
      "+----------+--------+--------+-------+--------+-----+--------------+\n",
      "|05/10/2018| 2:20 PM|     100|      1|      10|  816|          true|\n",
      "|06/10/2018| 3:30 PM|     100|      1|      10|    1|          true|\n",
      "|07/10/2018| 5:20 PM|     100|      1|      10|   10|          true|\n",
      "|04/08/2018|11:38 PM|     100|      2|       8|   79|          true|\n",
      "|25/03/2018| 3:52 AM|     100|      3|       1|   91|         false|\n",
      "+----------+--------+--------+-------+--------+-----+--------------+\n",
      "only showing top 5 rows\n",
      "\n"
     ]
    }
   ],
   "source": [
    "c.select(expr(\"quantity > 1\")).show(5)\n",
    "#with the product id\n",
    "c.select(expr(\"product\"), expr(\"quantity > 1\")).show(5)\n",
    "c.select(expr(\"*\"), expr(\"quantity > 1\")).show(5)"
   ]
  },
  {
   "cell_type": "code",
   "execution_count": 9,
   "metadata": {},
   "outputs": [
    {
     "name": "stdout",
     "output_type": "stream",
     "text": [
      "+----------+--------+--------+-------+--------+-----+--------------+\n",
      "|      date|    time|customer|product|quantity|price|(quantity > 1)|\n",
      "+----------+--------+--------+-------+--------+-----+--------------+\n",
      "|05/10/2018| 2:20 PM|     100|      1|      10|  816|          true|\n",
      "|06/10/2018| 3:30 PM|     100|      1|      10|    1|          true|\n",
      "|07/10/2018| 5:20 PM|     100|      1|      10|   10|          true|\n",
      "|04/08/2018|11:38 PM|     100|      2|       8|   79|          true|\n",
      "|25/03/2018| 3:52 AM|     100|      3|       1|   91|         false|\n",
      "+----------+--------+--------+-------+--------+-----+--------------+\n",
      "only showing top 5 rows\n",
      "\n",
      "+----------+--------+--------+-------+--------+-----+----------------+------------+\n",
      "|      date|    time|customer|product|quantity|price|(customer = 100)|(price > 10)|\n",
      "+----------+--------+--------+-------+--------+-----+----------------+------------+\n",
      "|05/10/2018| 2:20 PM|     100|      1|      10|  816|            true|        true|\n",
      "|06/10/2018| 3:30 PM|     100|      1|      10|    1|            true|       false|\n",
      "|07/10/2018| 5:20 PM|     100|      1|      10|   10|            true|       false|\n",
      "|04/08/2018|11:38 PM|     100|      2|       8|   79|            true|        true|\n",
      "|25/03/2018| 3:52 AM|     100|      3|       1|   91|            true|        true|\n",
      "+----------+--------+--------+-------+--------+-----+----------------+------------+\n",
      "only showing top 5 rows\n",
      "\n",
      "+----------+--------+--------+-------+--------+-----+-------------------------+\n",
      "|      date|    time|customer|product|quantity|price|(price > (quantity * 10))|\n",
      "+----------+--------+--------+-------+--------+-----+-------------------------+\n",
      "|05/10/2018| 2:20 PM|     100|      1|      10|  816|                     true|\n",
      "|06/10/2018| 3:30 PM|     100|      1|      10|    1|                    false|\n",
      "|07/10/2018| 5:20 PM|     100|      1|      10|   10|                    false|\n",
      "|04/08/2018|11:38 PM|     100|      2|       8|   79|                    false|\n",
      "|25/03/2018| 3:52 AM|     100|      3|       1|   91|                     true|\n",
      "+----------+--------+--------+-------+--------+-----+-------------------------+\n",
      "only showing top 5 rows\n",
      "\n"
     ]
    }
   ],
   "source": [
    "#shorter way\n",
    "c.selectExpr(\"*\", \"quantity > 1\").show(5)\n",
    "#combine different columns expressions\n",
    "c.selectExpr(\"*\", \"customer = 100\", \"price > 10\").show(5)\n",
    "#use columns to compare their values with arithmetic operations\n",
    "c.selectExpr(\"*\", \"price > quantity*10\").show(5)"
   ]
  },
  {
   "cell_type": "markdown",
   "metadata": {},
   "source": [
    "## 2. Aggregation values of our DataFrame with selectExpr"
   ]
  },
  {
   "cell_type": "code",
   "execution_count": 10,
   "metadata": {},
   "outputs": [
    {
     "name": "stdout",
     "output_type": "stream",
     "text": [
      "+----------+\n",
      "|sum(price)|\n",
      "+----------+\n",
      "|     51052|\n",
      "+----------+\n",
      "\n",
      "+----------------+\n",
      "|      avg(price)|\n",
      "+----------------+\n",
      "|50.9500998003992|\n",
      "+----------------+\n",
      "\n"
     ]
    }
   ],
   "source": [
    "#specify aggregations over the entire dataFrame by using:\n",
    "c.selectExpr(\"sum(price)\").show()\n",
    "c.selectExpr(\"avg(price)\").show()"
   ]
  },
  {
   "cell_type": "markdown",
   "metadata": {},
   "source": [
    "What is the main difference between these two?"
   ]
  },
  {
   "cell_type": "code",
   "execution_count": 11,
   "metadata": {},
   "outputs": [
    {
     "name": "stdout",
     "output_type": "stream",
     "text": [
      "+---------------+\n",
      "|count(customer)|\n",
      "+---------------+\n",
      "|           1002|\n",
      "+---------------+\n",
      "\n",
      "+------------------------+\n",
      "|count(DISTINCT customer)|\n",
      "+------------------------+\n",
      "|                      31|\n",
      "+------------------------+\n",
      "\n",
      "+----------------+---------------+\n",
      "|      avg(price)|count(customer)|\n",
      "+----------------+---------------+\n",
      "|50.9500998003992|           1002|\n",
      "+----------------+---------------+\n",
      "\n"
     ]
    }
   ],
   "source": [
    "c.selectExpr(\"count(customer)\").show()  \n",
    "c.selectExpr(\"count(distinct customer)\").show() \n",
    "\n",
    "#combinations of aggregations\n",
    "c.selectExpr(\"avg(price)\", \"count(customer)\").show()"
   ]
  },
  {
   "cell_type": "markdown",
   "metadata": {},
   "source": [
    "## 4. Sorting elements of the Dataset"
   ]
  },
  {
   "cell_type": "code",
   "execution_count": 12,
   "metadata": {},
   "outputs": [
    {
     "name": "stdout",
     "output_type": "stream",
     "text": [
      "+----------+--------+--------+-------+--------+-----+\n",
      "|      date|    time|customer|product|quantity|price|\n",
      "+----------+--------+--------+-------+--------+-----+\n",
      "|23/06/2018|12:49 AM|     110|      8|       8|    0|\n",
      "|22/08/2018| 3:38 PM|     124|      5|       4|    0|\n",
      "|07/07/2018| 6:23 PM|     112|      6|       4|    0|\n",
      "|16/03/2018|12:21 PM|     107|      3|       7|    0|\n",
      "|03/12/2017| 2:38 PM|     113|      9|       3|    0|\n",
      "+----------+--------+--------+-------+--------+-----+\n",
      "only showing top 5 rows\n",
      "\n",
      "+----------+--------+--------+-------+--------+-----+\n",
      "|      date|    time|customer|product|quantity|price|\n",
      "+----------+--------+--------+-------+--------+-----+\n",
      "|24/04/2018| 2:01 PM|     106|      4|       0|    0|\n",
      "|16/03/2018|12:21 PM|     107|      3|       7|    0|\n",
      "|23/06/2018|12:49 AM|     110|      8|       8|    0|\n",
      "|07/07/2018| 6:23 PM|     112|      6|       4|    0|\n",
      "|03/12/2017| 2:38 PM|     113|      9|       3|    0|\n",
      "+----------+--------+--------+-------+--------+-----+\n",
      "only showing top 5 rows\n",
      "\n",
      "+----------+--------+--------+-------+--------+-----+\n",
      "|      date|    time|customer|product|quantity|price|\n",
      "+----------+--------+--------+-------+--------+-----+\n",
      "|16/08/2018|12:03 PM|     130|      1|       1|    8|\n",
      "|23/04/2018|12:10 AM|     130|      6|       1|   81|\n",
      "|11/08/2018| 1:45 AM|     130|      2|       0|   90|\n",
      "|29/03/2018| 6:13 AM|     130|      3|       6|   69|\n",
      "|25/09/2018| 9:02 PM|     130|      4|       0|   29|\n",
      "+----------+--------+--------+-------+--------+-----+\n",
      "only showing top 5 rows\n",
      "\n",
      "+----------+--------+--------+-------+--------+-----+\n",
      "|      date|    time|customer|product|quantity|price|\n",
      "+----------+--------+--------+-------+--------+-----+\n",
      "|22/05/2018| 2:14 PM|     130|      9|       6|   86|\n",
      "|23/04/2018|12:10 AM|     130|      6|       1|   81|\n",
      "|18/10/2018| 1:24 AM|     130|     10|       8|   75|\n",
      "|29/03/2018| 6:13 AM|     130|      3|       6|   69|\n",
      "|23/05/2018| 2:04 PM|     130|      8|       9|   55|\n",
      "+----------+--------+--------+-------+--------+-----+\n",
      "only showing top 5 rows\n",
      "\n"
     ]
    }
   ],
   "source": [
    "#sort the data\n",
    "c.orderBy(\"price\").show(5)\n",
    "#sort our registers first with one column, then, for those elements with the same value, use a secondary to sort them\n",
    "c.orderBy(\"price\", \"customer\").show(5)\n",
    "\n",
    "#incremental or decremental sorting\n",
    "c.orderBy(desc(\"customer\"), asc(\"customer\")).show(5)\n",
    "c.where(expr(\"date > '16/09/2018'\")).orderBy(desc(\"customer\"), desc(\"price\")).show(5)\n"
   ]
  },
  {
   "cell_type": "markdown",
   "metadata": {},
   "source": [
    "## 5. Generating groups of data elements"
   ]
  },
  {
   "cell_type": "code",
   "execution_count": 13,
   "metadata": {},
   "outputs": [
    {
     "name": "stdout",
     "output_type": "stream",
     "text": [
      "+--------+-----+\n",
      "|customer|count|\n",
      "+--------+-----+\n",
      "|     108|   33|\n",
      "|     101|   33|\n",
      "|     115|   33|\n",
      "+--------+-----+\n",
      "only showing top 3 rows\n",
      "\n",
      "+--------+-------------+\n",
      "|customer|sum(quantity)|\n",
      "+--------+-------------+\n",
      "|     108|          129|\n",
      "|     101|          196|\n",
      "|     115|          143|\n",
      "+--------+-------------+\n",
      "only showing top 3 rows\n",
      "\n",
      "+--------+-------------+-----------------+------------------+------------------+\n",
      "|customer|avg(customer)|     avg(product)|     avg(quantity)|        avg(price)|\n",
      "+--------+-------------+-----------------+------------------+------------------+\n",
      "|     108|        108.0|5.545454545454546| 3.909090909090909| 49.93939393939394|\n",
      "|     101|        101.0|5.454545454545454|5.9393939393939394| 49.27272727272727|\n",
      "|     115|        115.0|5.636363636363637| 4.333333333333333|49.666666666666664|\n",
      "+--------+-------------+-----------------+------------------+------------------+\n",
      "only showing top 3 rows\n",
      "\n",
      "+--------+------------------+--------------------+\n",
      "|customer|     avg(quantity)|stddev_pop(quantity)|\n",
      "+--------+------------------+--------------------+\n",
      "|     108| 3.909090909090909|    2.83232035043586|\n",
      "|     101|5.9393939393939394|  2.8170411507132362|\n",
      "|     115| 4.333333333333333|  3.1107503398324456|\n",
      "+--------+------------------+--------------------+\n",
      "only showing top 3 rows\n",
      "\n",
      "+--------+------------------+----------+\n",
      "|customer|     avg(quantity)|max(price)|\n",
      "+--------+------------------+----------+\n",
      "|     108| 3.909090909090909|        99|\n",
      "|     101|5.9393939393939394|        93|\n",
      "|     115| 4.333333333333333|        98|\n",
      "+--------+------------------+----------+\n",
      "only showing top 3 rows\n",
      "\n"
     ]
    }
   ],
   "source": [
    "#How many purchases, regardless of products, we have for each customer\n",
    "c.groupBy(\"customer\").count().show(3) \n",
    "\n",
    "#Total number of prodducts each customer has bought\n",
    "c.groupBy(\"customer\").agg(expr(\"sum(quantity)\")).show(3)\n",
    "\n",
    "#general aggregation with any of the aggregation functions\n",
    "c.groupBy(\"customer\").avg().show(3) \n",
    "\n",
    "#the key is the columns and the value is the aggregation function that we need\n",
    "c.groupBy(\"customer\").agg(expr(\"avg(quantity)\"), expr(\"stddev_pop(quantity)\")).show(3)\n",
    "\n",
    "c.groupBy(\"customer\").agg(expr(\"avg(quantity)\"), expr(\"max(price)\")).show(3)"
   ]
  },
  {
   "cell_type": "markdown",
   "metadata": {},
   "source": [
    "## 6. Joining Dataframes"
   ]
  },
  {
   "cell_type": "code",
   "execution_count": 14,
   "metadata": {},
   "outputs": [],
   "source": [
    "products = spark.read.option(\"inferSchema\",\"true\").option(\"header\", \"true\").csv(\"products.csv\") \n",
    "\n",
    "stock = spark.read.option(\"inferSchema\",\"true\").option(\"header\", \"true\").csv(\"stock.csv\") \n"
   ]
  },
  {
   "cell_type": "markdown",
   "metadata": {},
   "source": [
    "Show which elements in stock could be a target for a discount"
   ]
  },
  {
   "cell_type": "code",
   "execution_count": 15,
   "metadata": {},
   "outputs": [
    {
     "name": "stdout",
     "output_type": "stream",
     "text": [
      "+----+-----+-----+----+-----+--------+\n",
      "|  ID| NAME|COLOR|  ID|PRICE|STOCKNUM|\n",
      "+----+-----+-----+----+-----+--------+\n",
      "|1234|chair| blue|1234|  125|    1000|\n",
      "|   1|table|black|   1|  816|     100|\n",
      "|   2|  jar|white|   2|   46|       1|\n",
      "|   3|  pan|  red|   3|   54|      22|\n",
      "+----+-----+-----+----+-----+--------+\n",
      "\n"
     ]
    }
   ],
   "source": [
    "joined = products.join(stock, products[\"id\"] == stock[\"id\"], \"inner\") \n",
    "joined.show()"
   ]
  },
  {
   "cell_type": "markdown",
   "metadata": {},
   "source": [
    "- products is our base table \n",
    "- stock is our joining table \n",
    "- product(\"id\") === stock(\"id\") is our joining condition. That is, all joining product ids must exist in both product and stock tables \n",
    "- \"inner\" is the kind of join operation we are using for the operation \n",
    "\n",
    "We have many kinds of join operations, some of them are: \n",
    "\n",
    "- natural joins: join by matching the columns between left and right with the same names \n",
    "- inner joins: keep rows with keys in the left and right\n",
    "- outer joins: keep rows with keys in either the left or the right \n",
    "- left outer/right outer: keep rows in the left (or right) when keys are in the left (or right) dataset \n",
    "- left_anti: keep rows in the left where they do not appear in the righ"
   ]
  },
  {
   "cell_type": "markdown",
   "metadata": {},
   "source": [
    "## Questions to solve with cistomers.csv dataset\n",
    "\n",
    "Use any of the previous transformations to find the answer to these questions. You can export your Jupyter notebook final version as part of the deliverable. For each question, you must provide the following information: \n",
    "- What command are you going to use? Why? \n",
    "- Which is your Spark operation to solve the question? \n",
    "- Which output is providing your Spark command (3 lines max.) "
   ]
  },
  {
   "cell_type": "markdown",
   "metadata": {},
   "source": [
    "### Quetion 1:\n",
    "### How many elements can we find (in our DataFrame)? "
   ]
  },
  {
   "cell_type": "markdown",
   "metadata": {},
   "source": [
    "We will use the command count() to find how many elements we have in the DataFrame.\n",
    "\n",
    "The operation is c.count()"
   ]
  },
  {
   "cell_type": "code",
   "execution_count": 16,
   "metadata": {},
   "outputs": [
    {
     "name": "stdout",
     "output_type": "stream",
     "text": [
      "Number of elements in the DataFrame: 1002\n"
     ]
    }
   ],
   "source": [
    "elements_count = c.count()\n",
    "print(f\"Number of elements in the DataFrame: {elements_count}\")"
   ]
  },
  {
   "cell_type": "markdown",
   "metadata": {},
   "source": [
    "### Question 2:\n",
    "### How many unique customers? \n"
   ]
  },
  {
   "cell_type": "markdown",
   "metadata": {},
   "source": [
    "We will use the command distinct() and count()"
   ]
  },
  {
   "cell_type": "code",
   "execution_count": 17,
   "metadata": {},
   "outputs": [
    {
     "name": "stdout",
     "output_type": "stream",
     "text": [
      "Unique customers: 31\n"
     ]
    }
   ],
   "source": [
    "unique_customers = c.select(\"customer\").distinct().count()\n",
    "\n",
    "print(\"Unique customers: %d\" % unique_customers)"
   ]
  },
  {
   "cell_type": "markdown",
   "metadata": {},
   "source": [
    "### Question 3:\n",
    "### How many products were purchased by each customer? "
   ]
  },
  {
   "cell_type": "markdown",
   "metadata": {},
   "source": [
    "We will use the command groupBy() and agg()"
   ]
  },
  {
   "cell_type": "code",
   "execution_count": 18,
   "metadata": {},
   "outputs": [
    {
     "name": "stdout",
     "output_type": "stream",
     "text": [
      "+--------+--------------+\n",
      "|customer|total_quantity|\n",
      "+--------+--------------+\n",
      "|     108|           129|\n",
      "|     101|           196|\n",
      "|     115|           143|\n",
      "+--------+--------------+\n",
      "only showing top 3 rows\n",
      "\n"
     ]
    }
   ],
   "source": [
    "products_per_customer = c.groupBy(\"customer\").agg(expr(\"sum(quantity) as total_quantity\"))\n",
    "products_per_customer.show(3)\n"
   ]
  },
  {
   "cell_type": "markdown",
   "metadata": {},
   "source": [
    "### Question 4:\n",
    "### Sort customers by quantity "
   ]
  },
  {
   "cell_type": "code",
   "execution_count": 19,
   "metadata": {},
   "outputs": [
    {
     "name": "stdout",
     "output_type": "stream",
     "text": [
      "+--------+--------------+\n",
      "|customer|total_quantity|\n",
      "+--------+--------------+\n",
      "|     101|           196|\n",
      "|     122|           179|\n",
      "|     117|           176|\n",
      "+--------+--------------+\n",
      "only showing top 3 rows\n",
      "\n"
     ]
    }
   ],
   "source": [
    "sorted_customers_by_quantity = products_per_customer.orderBy(desc(\"total_quantity\"))\n",
    "\n",
    "sorted_customers_by_quantity.show(3)"
   ]
  },
  {
   "cell_type": "markdown",
   "metadata": {},
   "source": [
    "### Question 5:\n",
    "### How many times customer id number 100 has purchased more than 5 items? "
   ]
  },
  {
   "cell_type": "code",
   "execution_count": 20,
   "metadata": {},
   "outputs": [
    {
     "name": "stdout",
     "output_type": "stream",
     "text": [
      "+----------+-------+--------+-------+--------+-----+\n",
      "|      date|   time|customer|product|quantity|price|\n",
      "+----------+-------+--------+-------+--------+-----+\n",
      "|05/10/2018|2:20 PM|     100|      1|      10|  816|\n",
      "|06/10/2018|3:30 PM|     100|      1|      10|    1|\n",
      "|07/10/2018|5:20 PM|     100|      1|      10|   10|\n",
      "+----------+-------+--------+-------+--------+-----+\n",
      "only showing top 3 rows\n",
      "\n",
      "Customer with id 100 has purchased 16 times more than 5 items.\n"
     ]
    }
   ],
   "source": [
    "customer100_5 = c.where(expr(\"customer = 100\")).where(expr(\"quantity > 5\"))\n",
    "customer100_5.show(3)\n",
    "\n",
    "counter = customer100_5.count()\n",
    "print(\"Customer with id 100 has purchased\", counter, \"times more than 5 items.\")\n"
   ]
  },
  {
   "cell_type": "markdown",
   "metadata": {},
   "source": [
    "### Question 6:\n",
    "### Which were the products bought by customer with the largest number of transactions? We are interested in the customer that has done more purchases. You do not need to consider quantities of products, just how many times a customer has done a transaction."
   ]
  },
  {
   "cell_type": "code",
   "execution_count": 21,
   "metadata": {},
   "outputs": [
    {
     "name": "stdout",
     "output_type": "stream",
     "text": [
      "+--------+-----+\n",
      "|customer|count|\n",
      "+--------+-----+\n",
      "|     100|   35|\n",
      "|     108|   33|\n",
      "|     115|   33|\n",
      "+--------+-----+\n",
      "only showing top 3 rows\n",
      "\n",
      "The customer with the largest number of transactions is: 100\n",
      "+-------+\n",
      "|product|\n",
      "+-------+\n",
      "|      1|\n",
      "|      6|\n",
      "|      3|\n",
      "|      5|\n",
      "|      9|\n",
      "|      4|\n",
      "|      8|\n",
      "|      7|\n",
      "|     10|\n",
      "|      2|\n",
      "+-------+\n",
      "\n"
     ]
    }
   ],
   "source": [
    "transactions = c.groupBy(\"customer\").count().orderBy(desc(\"count\"))\n",
    "transactions.show(3)\n",
    "\n",
    "first_customer_transactions = transactions.head(1)[0][\"customer\"]\n",
    "print(f\"The customer with the largest number of transactions is: {first_customer_transactions}\")\n",
    "\n",
    "\n",
    "prod = c.where(expr(\"customer\") == first_customer_transactions).select(\"product\").distinct()\n",
    "prod.show()"
   ]
  }
 ],
 "metadata": {
  "kernelspec": {
   "display_name": "Python 3",
   "language": "python",
   "name": "python3"
  },
  "language_info": {
   "codemirror_mode": {
    "name": "ipython",
    "version": 3
   },
   "file_extension": ".py",
   "mimetype": "text/x-python",
   "name": "python",
   "nbconvert_exporter": "python",
   "pygments_lexer": "ipython3",
   "version": "3.8.10"
  }
 },
 "nbformat": 4,
 "nbformat_minor": 4
}
