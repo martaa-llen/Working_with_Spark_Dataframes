{
 "cells": [
  {
   "cell_type": "markdown",
   "metadata": {},
   "source": [
    "# Data analysis with Apache Spark - Dataframe 2"
   ]
  },
  {
   "cell_type": "markdown",
   "metadata": {},
   "source": [
    "## 1. Data analysis with Spark DataFrames: loading datasets"
   ]
  },
  {
   "cell_type": "code",
   "execution_count": 1,
   "metadata": {},
   "outputs": [],
   "source": [
    "import findspark\n",
    "findspark.init(\"/home/alumno/spark-3.2.2-bin-hadoop2.7\")\n",
    "from pyspark import SparkContext, SparkConf\n",
    "conf=SparkConf().setAppName(\"intro\").setMaster(\"local\")\n",
    "sc = SparkContext(conf=conf)\n",
    "from pyspark.sql import SparkSession\n",
    "spark=SparkSession(sc)"
   ]
  },
  {
   "cell_type": "code",
   "execution_count": 2,
   "metadata": {},
   "outputs": [
    {
     "name": "stdout",
     "output_type": "stream",
     "text": [
      "links.csv  movies.csv  ratings.csv  README.txt\ttags.csv\r\n"
     ]
    }
   ],
   "source": [
    "! ls ml-latest-small"
   ]
  },
  {
   "cell_type": "code",
   "execution_count": 3,
   "metadata": {},
   "outputs": [],
   "source": [
    "#load movies and ratings datasets to start the analysis\n",
    "movies_df = spark.read.option(\"inferSchema\",\"true\").option(\"header\", \"true\").csv(\"ml-latest-small/movies.csv\")\n",
    "ratings_df = spark.read.option(\"inferSchema\",\"true\").option(\"header\", \"true\").csv(\"ml-latest-small/ratings.csv\")"
   ]
  },
  {
   "cell_type": "code",
   "execution_count": 4,
   "metadata": {},
   "outputs": [
    {
     "name": "stdout",
     "output_type": "stream",
     "text": [
      "root\n",
      " |-- movieId: integer (nullable = true)\n",
      " |-- title: string (nullable = true)\n",
      " |-- genres: string (nullable = true)\n",
      "\n"
     ]
    }
   ],
   "source": [
    "movies_df.printSchema()"
   ]
  },
  {
   "cell_type": "code",
   "execution_count": 5,
   "metadata": {},
   "outputs": [
    {
     "name": "stdout",
     "output_type": "stream",
     "text": [
      "+-------+----------------------------------+-------------------------------------------+\n",
      "|movieId|title                             |genres                                     |\n",
      "+-------+----------------------------------+-------------------------------------------+\n",
      "|1      |Toy Story (1995)                  |Adventure|Animation|Children|Comedy|Fantasy|\n",
      "|2      |Jumanji (1995)                    |Adventure|Children|Fantasy                 |\n",
      "|3      |Grumpier Old Men (1995)           |Comedy|Romance                             |\n",
      "|4      |Waiting to Exhale (1995)          |Comedy|Drama|Romance                       |\n",
      "|5      |Father of the Bride Part II (1995)|Comedy                                     |\n",
      "+-------+----------------------------------+-------------------------------------------+\n",
      "only showing top 5 rows\n",
      "\n"
     ]
    }
   ],
   "source": [
    "movies_df.show(5, truncate=False)"
   ]
  },
  {
   "cell_type": "code",
   "execution_count": 6,
   "metadata": {},
   "outputs": [
    {
     "name": "stdout",
     "output_type": "stream",
     "text": [
      "+------+-------+------+---------+\n",
      "|userId|movieId|rating|timestamp|\n",
      "+------+-------+------+---------+\n",
      "|     1|      1|   4.0|964982703|\n",
      "|     1|      3|   4.0|964981247|\n",
      "|     1|      6|   4.0|964982224|\n",
      "|     1|     47|   5.0|964983815|\n",
      "|     1|     50|   5.0|964982931|\n",
      "+------+-------+------+---------+\n",
      "only showing top 5 rows\n",
      "\n"
     ]
    }
   ],
   "source": [
    "ratings_df.show(5)"
   ]
  },
  {
   "cell_type": "markdown",
   "metadata": {},
   "source": [
    "## 2. Training Datasets"
   ]
  },
  {
   "cell_type": "code",
   "execution_count": 7,
   "metadata": {
    "scrolled": true
   },
   "outputs": [
    {
     "name": "stdout",
     "output_type": "stream",
     "text": [
      "+-------+------+------+---------+---------------------------+-------------------------------------------+\n",
      "|movieId|userId|rating|timestamp|title                      |genres                                     |\n",
      "+-------+------+------+---------+---------------------------+-------------------------------------------+\n",
      "|1      |1     |4.0   |964982703|Toy Story (1995)           |Adventure|Animation|Children|Comedy|Fantasy|\n",
      "|3      |1     |4.0   |964981247|Grumpier Old Men (1995)    |Comedy|Romance                             |\n",
      "|6      |1     |4.0   |964982224|Heat (1995)                |Action|Crime|Thriller                      |\n",
      "|47     |1     |5.0   |964983815|Seven (a.k.a. Se7en) (1995)|Mystery|Thriller                           |\n",
      "|50     |1     |5.0   |964982931|Usual Suspects, The (1995) |Crime|Mystery|Thriller                     |\n",
      "+-------+------+------+---------+---------------------------+-------------------------------------------+\n",
      "only showing top 5 rows\n",
      "\n"
     ]
    }
   ],
   "source": [
    "#we join both datasets as they were relational tables and have a new movie_ratings DatFrame\n",
    "movie_ratings = ratings_df.join(movies_df, [\"movieId\"], \"left\")\n",
    "movie_ratings.show(5, truncate=False)"
   ]
  },
  {
   "cell_type": "code",
   "execution_count": 8,
   "metadata": {},
   "outputs": [
    {
     "data": {
      "text/plain": [
       "100836"
      ]
     },
     "execution_count": 8,
     "metadata": {},
     "output_type": "execute_result"
    }
   ],
   "source": [
    "movie_ratings.count()"
   ]
  },
  {
   "cell_type": "markdown",
   "metadata": {},
   "source": [
    "### **Question 1:**  \n",
    "### Can you obtain a basic summary list of statistics for our new movie ratings dataframe? Interesting information is the count, mean, max, and some selected percentiles. For each question of the tutorial, you must provide the following information:\n",
    "- What command are you going to use? Why?\n",
    "- Which is your Spark operation to solve the question?\n",
    "- Which output is providing your Spark command (3 lines max.)\n"
   ]
  },
  {
   "cell_type": "code",
   "execution_count": 9,
   "metadata": {},
   "outputs": [
    {
     "name": "stdout",
     "output_type": "stream",
     "text": [
      "+-------+----------------+------------------+------------------+--------------------+--------------------+------------------+\n",
      "|summary|         movieId|            userId|            rating|           timestamp|               title|            genres|\n",
      "+-------+----------------+------------------+------------------+--------------------+--------------------+------------------+\n",
      "|  count|          100836|            100836|            100836|              100836|              100836|            100836|\n",
      "|   mean|19435.2957177992|326.12756356856676| 3.501556983616962|1.2059460873684695E9|                null|              null|\n",
      "| stddev|35530.9871987003| 182.6184914635004|1.0425292390606342|2.1626103599513078E8|                null|              null|\n",
      "|    min|               1|                 1|               0.5|           828124615|\"11'09\"\"01 - Sept...|(no genres listed)|\n",
      "|    max|          193609|               610|               5.0|          1537799250|À nous la liberté...|           Western|\n",
      "+-------+----------------+------------------+------------------+--------------------+--------------------+------------------+\n",
      "\n"
     ]
    }
   ],
   "source": [
    "basic_summary = movie_ratings.describe()\n",
    "basic_summary.show()"
   ]
  },
  {
   "cell_type": "code",
   "execution_count": 10,
   "metadata": {},
   "outputs": [
    {
     "name": "stdout",
     "output_type": "stream",
     "text": [
      "+---------------+\n",
      "|  25%, 50%, 75%|\n",
      "+---------------+\n",
      "|[3.0, 3.5, 4.0]|\n",
      "+---------------+\n",
      "\n"
     ]
    }
   ],
   "source": [
    "from pyspark.sql.functions import expr, percentile_approx\n",
    "\n",
    "percentiles = movie_ratings.select(expr(\"percentile_approx(rating, array(0.25, 0.5, 0.75))\").alias('25%, 50%, 75%'))\n",
    "percentiles.show()"
   ]
  },
  {
   "cell_type": "markdown",
   "metadata": {},
   "source": [
    "Create a training/validation dataset to evaluate Spark tools to build prediction models. We are going to create data splits of initial DataFrames"
   ]
  },
  {
   "cell_type": "code",
   "execution_count": 11,
   "metadata": {},
   "outputs": [
    {
     "name": "stdout",
     "output_type": "stream",
     "text": [
      "Help on method randomSplit in module pyspark.sql.dataframe:\n",
      "\n",
      "randomSplit(weights, seed=None) method of pyspark.sql.dataframe.DataFrame instance\n",
      "    Randomly splits this :class:`DataFrame` with the provided weights.\n",
      "    \n",
      "    .. versionadded:: 1.4.0\n",
      "    \n",
      "    Parameters\n",
      "    ----------\n",
      "    weights : list\n",
      "        list of doubles as weights with which to split the :class:`DataFrame`.\n",
      "        Weights will be normalized if they don't sum up to 1.0.\n",
      "    seed : int, optional\n",
      "        The seed for sampling.\n",
      "    \n",
      "    Examples\n",
      "    --------\n",
      "    >>> splits = df4.randomSplit([1.0, 2.0], 24)\n",
      "    >>> splits[0].count()\n",
      "    2\n",
      "    \n",
      "    >>> splits[1].count()\n",
      "    2\n",
      "\n"
     ]
    },
    {
     "data": {
      "text/plain": [
       "100836"
      ]
     },
     "execution_count": 11,
     "metadata": {},
     "output_type": "execute_result"
    }
   ],
   "source": [
    "help(movie_ratings.randomSplit)\n",
    "(train_df, v_df) = movie_ratings.randomSplit([0.8, 0.2], 0)\n",
    "movie_ratings.count()"
   ]
  },
  {
   "cell_type": "code",
   "execution_count": 12,
   "metadata": {},
   "outputs": [
    {
     "data": {
      "text/plain": [
       "80487"
      ]
     },
     "execution_count": 12,
     "metadata": {},
     "output_type": "execute_result"
    }
   ],
   "source": [
    "train_df.count()"
   ]
  },
  {
   "cell_type": "code",
   "execution_count": 13,
   "metadata": {},
   "outputs": [
    {
     "data": {
      "text/plain": [
       "20349"
      ]
     },
     "execution_count": 13,
     "metadata": {},
     "output_type": "execute_result"
    }
   ],
   "source": [
    "v_df.count()"
   ]
  },
  {
   "cell_type": "code",
   "execution_count": 14,
   "metadata": {},
   "outputs": [
    {
     "name": "stdout",
     "output_type": "stream",
     "text": [
      "root\n",
      " |-- movieId: integer (nullable = true)\n",
      " |-- userId: integer (nullable = true)\n",
      " |-- rating: double (nullable = true)\n",
      " |-- timestamp: integer (nullable = true)\n",
      " |-- title: string (nullable = true)\n",
      " |-- genres: string (nullable = true)\n",
      "\n"
     ]
    }
   ],
   "source": [
    "v_df.printSchema()"
   ]
  },
  {
   "cell_type": "markdown",
   "metadata": {},
   "source": [
    "To avoid having empty recommendations, we need to be sure that users and movies used to train are also available in the validation dataset"
   ]
  },
  {
   "cell_type": "code",
   "execution_count": 15,
   "metadata": {},
   "outputs": [],
   "source": [
    "validation_df = ( v_df\n",
    "    .join(train_df, [\"userId\"], \"left_semi\")\n",
    "    .join(train_df, [\"movieId\"], \"left_semi\")\n",
    ")\n",
    "non_matching_recs = v_df.join(validation_df, [\"movieId\", \"userId\"], \"left_anti\")\n",
    "train_df = train_df.union(non_matching_recs)"
   ]
  },
  {
   "cell_type": "markdown",
   "metadata": {},
   "source": [
    "### **Question 2:** \n",
    "### What kind of join operations are used in left semi and left anti? Can you explain these operations with our validation example?"
   ]
  },
  {
   "cell_type": "markdown",
   "metadata": {},
   "source": [
    "The left_semi operation returns those rows that match the columns in both the left dataframe and right dataframe, whereas left_anti  returns those which do not match. In the example we are creating the validation_df by using the left semi to obtain those rows where userId matches in v_df and train_df, then we do the same thing but for movieId with the resulting dataframe of the previous operation and train_df. We use left anti to get thoser rows that do not match columns movieId and UserId in v_df and validation_df to later perform an union with the train_df and add those which arent in the train_df to it."
   ]
  },
  {
   "cell_type": "markdown",
   "metadata": {},
   "source": [
    "### **Question 3:**  \n",
    "### train_df has now more or less records than initially? Why?"
   ]
  },
  {
   "cell_type": "markdown",
   "metadata": {},
   "source": [
    "Now, train_df has more records than initially beause we have added the ones that were in v_df and that were not initially in train_df"
   ]
  },
  {
   "cell_type": "markdown",
   "metadata": {},
   "source": [
    "## 3. Managing columns of validation datasets"
   ]
  },
  {
   "cell_type": "code",
   "execution_count": 16,
   "metadata": {},
   "outputs": [],
   "source": [
    "#import some functions available at pyspark\n",
    "from pyspark.sql.functions import col, countDistinct, mean, split, explode, count"
   ]
  },
  {
   "cell_type": "code",
   "execution_count": 17,
   "metadata": {},
   "outputs": [
    {
     "name": "stdout",
     "output_type": "stream",
     "text": [
      "+-------+------+------+----------+--------------------+--------------------+\n",
      "|movieId|userId|rating| timestamp|               title|              genres|\n",
      "+-------+------+------+----------+--------------------+--------------------+\n",
      "|    193|   243|   5.0| 837155377|    Showgirls (1995)|               Drama|\n",
      "|   2997|   392|   5.0|1027524319|Being John Malkov...|Comedy|Drama|Fantasy|\n",
      "|    296|   540|   5.0|1179108599| Pulp Fiction (1994)|Comedy|Crime|Dram...|\n",
      "|    161|   243|   5.0| 837155121| Crimson Tide (1995)|  Drama|Thriller|War|\n",
      "|   1221|   392|   5.0|1027524082|Godfather: Part I...|         Crime|Drama|\n",
      "+-------+------+------+----------+--------------------+--------------------+\n",
      "only showing top 5 rows\n",
      "\n"
     ]
    }
   ],
   "source": [
    "#data review by sorting out dataset by descendin g order of ratings\n",
    "validation_df.sort(col(\"rating\").desc()).show(5)"
   ]
  },
  {
   "cell_type": "markdown",
   "metadata": {},
   "source": [
    "### **Question 4:**\n",
    "### Create a new DF derived from train_df grouping all records with the same rating, count them, and sort by the rating column in descending order. The expected output of this transformation should be:"
   ]
  },
  {
   "cell_type": "code",
   "execution_count": 18,
   "metadata": {},
   "outputs": [],
   "source": [
    "from pyspark.sql.functions import expr, desc, asc"
   ]
  },
  {
   "cell_type": "code",
   "execution_count": 19,
   "metadata": {},
   "outputs": [
    {
     "name": "stdout",
     "output_type": "stream",
     "text": [
      "+------+-----+\n",
      "|rating|count|\n",
      "+------+-----+\n",
      "|   5.0|10644|\n",
      "|   4.5| 6826|\n",
      "|   4.0|21655|\n",
      "|   3.5|10569|\n",
      "|   3.0|16128|\n",
      "|   2.5| 4508|\n",
      "|   2.0| 6089|\n",
      "|   1.5| 1468|\n",
      "|   1.0| 2325|\n",
      "|   0.5| 1099|\n",
      "+------+-----+\n",
      "\n"
     ]
    }
   ],
   "source": [
    "ratings_distribution = train_df.groupBy(\"rating\").count().orderBy(desc(\"rating\"))\n",
    "ratings_distribution.show()"
   ]
  },
  {
   "cell_type": "markdown",
   "metadata": {},
   "source": [
    "In our dataset, we have a special column called \"genres\" where we have a list of words separated by \"|\" that describe the genre of each movie. If we are interested in making predictions on  specific kind of movies we need to create a new column called genre with all the labels applied to each movie. To create that column, we need two steps.\n"
   ]
  },
  {
   "cell_type": "code",
   "execution_count": 20,
   "metadata": {
    "scrolled": true
   },
   "outputs": [
    {
     "name": "stdout",
     "output_type": "stream",
     "text": [
      "+-------+------+------+----------+----------------+-------------------------------------------+-------------------------------------------------+\n",
      "|movieId|userId|rating|timestamp |title           |genres                                     |genres_array                                     |\n",
      "+-------+------+------+----------+----------------+-------------------------------------------+-------------------------------------------------+\n",
      "|1      |1     |4.0   |964982703 |Toy Story (1995)|Adventure|Animation|Children|Comedy|Fantasy|[Adventure, Animation, Children, Comedy, Fantasy]|\n",
      "|1      |5     |4.0   |847434962 |Toy Story (1995)|Adventure|Animation|Children|Comedy|Fantasy|[Adventure, Animation, Children, Comedy, Fantasy]|\n",
      "|1      |7     |4.5   |1106635946|Toy Story (1995)|Adventure|Animation|Children|Comedy|Fantasy|[Adventure, Animation, Children, Comedy, Fantasy]|\n",
      "|1      |15    |2.5   |1510577970|Toy Story (1995)|Adventure|Animation|Children|Comedy|Fantasy|[Adventure, Animation, Children, Comedy, Fantasy]|\n",
      "|1      |17    |4.5   |1305696483|Toy Story (1995)|Adventure|Animation|Children|Comedy|Fantasy|[Adventure, Animation, Children, Comedy, Fantasy]|\n",
      "+-------+------+------+----------+----------------+-------------------------------------------+-------------------------------------------------+\n",
      "only showing top 5 rows\n",
      "\n"
     ]
    }
   ],
   "source": [
    "#First, use the split function to create a new column with an array of genre values.\n",
    "train_with_genres_array = train_df.withColumn(\"genres_array\", split(\"genres\", \"\\|\"))\n",
    "train_with_genres_array.show(5, truncate=False)"
   ]
  },
  {
   "cell_type": "code",
   "execution_count": 21,
   "metadata": {},
   "outputs": [
    {
     "name": "stdout",
     "output_type": "stream",
     "text": [
      "+-------+------+------+-------------------------------------------+-------------------------------------------------+---------+\n",
      "|movieId|userId|rating|genres                                     |genres_array                                     |genre    |\n",
      "+-------+------+------+-------------------------------------------+-------------------------------------------------+---------+\n",
      "|1      |1     |4.0   |Adventure|Animation|Children|Comedy|Fantasy|[Adventure, Animation, Children, Comedy, Fantasy]|Adventure|\n",
      "|1      |1     |4.0   |Adventure|Animation|Children|Comedy|Fantasy|[Adventure, Animation, Children, Comedy, Fantasy]|Animation|\n",
      "|1      |1     |4.0   |Adventure|Animation|Children|Comedy|Fantasy|[Adventure, Animation, Children, Comedy, Fantasy]|Children |\n",
      "|1      |1     |4.0   |Adventure|Animation|Children|Comedy|Fantasy|[Adventure, Animation, Children, Comedy, Fantasy]|Comedy   |\n",
      "|1      |1     |4.0   |Adventure|Animation|Children|Comedy|Fantasy|[Adventure, Animation, Children, Comedy, Fantasy]|Fantasy  |\n",
      "+-------+------+------+-------------------------------------------+-------------------------------------------------+---------+\n",
      "only showing top 5 rows\n",
      "\n"
     ]
    }
   ],
   "source": [
    "#Second, \"explode\" the array column into separate records, each one with a value taken from the array\n",
    "train_with_genres_exploded = (\n",
    "train_with_genres_array\n",
    ".select(\"movieId\", \"userId\", \"rating\", \"genres\", \"genres_array\")\n",
    ".withColumn(\"genre\", explode(\"genres_array\"))\n",
    ")\n",
    "train_with_genres_exploded.show(5, truncate=False)"
   ]
  },
  {
   "cell_type": "markdown",
   "metadata": {},
   "source": [
    "Now we can start making questions about movie categories. For example, which is the mean rating of each movie category? Are there types of movies that are preferred by users?"
   ]
  },
  {
   "cell_type": "code",
   "execution_count": 22,
   "metadata": {},
   "outputs": [
    {
     "name": "stdout",
     "output_type": "stream",
     "text": [
      "+-----------+------------------+\n",
      "|genre      |genre_rating      |\n",
      "+-----------+------------------+\n",
      "|Crime      |3.6534308211473565|\n",
      "|Romance    |3.499146874146874 |\n",
      "|Thriller   |3.489255925733943 |\n",
      "|Adventure  |3.5100289495450787|\n",
      "|Drama      |3.6531895378424757|\n",
      "|War        |3.8031265887137775|\n",
      "|Documentary|3.7878937007874014|\n",
      "|Fantasy    |3.4873953974895398|\n",
      "|Mystery    |3.6281553398058253|\n",
      "|Musical    |3.570217917675545 |\n",
      "+-----------+------------------+\n",
      "only showing top 10 rows\n",
      "\n"
     ]
    }
   ],
   "source": [
    "mean_genre_rating = (\n",
    "    train_with_genres_exploded\n",
    "        .groupBy(\"genre\")\n",
    "        .agg(mean(col(\"rating\")).alias(\"genre_rating\"))\n",
    ")\n",
    "mean_genre_rating.show(10, truncate=False)"
   ]
  },
  {
   "cell_type": "markdown",
   "metadata": {},
   "source": [
    "Now we want to check these ratings together with the actual number of movies rated by users. We can add a new column using count()"
   ]
  },
  {
   "cell_type": "code",
   "execution_count": 23,
   "metadata": {},
   "outputs": [
    {
     "name": "stdout",
     "output_type": "stream",
     "text": [
      "+-----------+------------------+----------+\n",
      "|genre      |genre_rating      |num_movies|\n",
      "+-----------+------------------+----------+\n",
      "|Crime      |3.6534308211473565|13335     |\n",
      "|Romance    |3.499146874146874 |14652     |\n",
      "|Thriller   |3.489255925733943 |21221     |\n",
      "|Adventure  |3.5100289495450787|19344     |\n",
      "|Drama      |3.6531895378424757|33798     |\n",
      "|War        |3.8031265887137775|3934      |\n",
      "|Documentary|3.7878937007874014|1016      |\n",
      "|Fantasy    |3.4873953974895398|9560      |\n",
      "|Mystery    |3.6281553398058253|6180      |\n",
      "|Musical    |3.570217917675545 |3304      |\n",
      "+-----------+------------------+----------+\n",
      "only showing top 10 rows\n",
      "\n"
     ]
    }
   ],
   "source": [
    "mean_genre_rating_movies = (\n",
    "    train_with_genres_exploded\n",
    "        .groupBy(\"genre\")\n",
    "        .agg(\n",
    "            mean(col(\"rating\")).alias(\"genre_rating\"),\n",
    "            count(\"movieId\").alias(\"num_movies\")\n",
    "        )\n",
    ")\n",
    "mean_genre_rating_movies.show(10, truncate=False)"
   ]
  },
  {
   "cell_type": "markdown",
   "metadata": {},
   "source": [
    "There is a problem in the previous result. As we have exploded an array into separated records, we are counting the same movie several times, then adding duplicates to our results. It's much more useful to consider each movie only once per each genre aggregation. We need to change our count by a countDistinct\n",
    "action instead."
   ]
  },
  {
   "cell_type": "code",
   "execution_count": 24,
   "metadata": {},
   "outputs": [
    {
     "name": "stdout",
     "output_type": "stream",
     "text": [
      "+-----------+------------------+----------+\n",
      "|genre      |genre_rating      |num_movies|\n",
      "+-----------+------------------+----------+\n",
      "|Crime      |3.6534308211473565|1196      |\n",
      "|Romance    |3.499146874146874 |1591      |\n",
      "|Thriller   |3.489255925733943 |1889      |\n",
      "|Adventure  |3.5100289495450787|1262      |\n",
      "|Drama      |3.6531895378424757|4349      |\n",
      "|War        |3.8031265887137775|381       |\n",
      "|Documentary|3.7878937007874014|438       |\n",
      "|Fantasy    |3.4873953974895398|778       |\n",
      "|Mystery    |3.6281553398058253|573       |\n",
      "|Musical    |3.570217917675545 |333       |\n",
      "+-----------+------------------+----------+\n",
      "only showing top 10 rows\n",
      "\n"
     ]
    }
   ],
   "source": [
    "mean_genre_rating_movies = (\n",
    "    train_with_genres_exploded\n",
    "        .groupBy(\"genre\")\n",
    "        .agg(\n",
    "                mean(col(\"rating\")).alias(\"genre_rating\"),\n",
    "            countDistinct(\"movieId\").alias(\"num_movies\")\n",
    "        )\n",
    ")\n",
    "mean_genre_rating_movies.show(10, truncate=False)"
   ]
  },
  {
   "cell_type": "markdown",
   "metadata": {},
   "source": [
    "### **Question 5:**\n",
    "### Extend the previous DataFrame to have a new column with the unique number of ratings for each movie. You need to consider a countDistinct with both \"movieId\" and \"userId\" so that a user only ranks once for each movie."
   ]
  },
  {
   "cell_type": "code",
   "execution_count": 25,
   "metadata": {},
   "outputs": [
    {
     "name": "stdout",
     "output_type": "stream",
     "text": [
      "+-----------+------------------+----------+-----------+\n",
      "|      genre|      genre_rating|num_movies|num_ratings|\n",
      "+-----------+------------------+----------+-----------+\n",
      "|      Crime|3.6534308211473565|      1196|      13335|\n",
      "|    Romance| 3.499146874146874|      1591|      14652|\n",
      "|   Thriller| 3.489255925733943|      1889|      21221|\n",
      "|  Adventure|3.5100289495450787|      1262|      19344|\n",
      "|      Drama|3.6531895378424757|      4349|      33798|\n",
      "|        War|3.8031265887137775|       381|       3934|\n",
      "|Documentary|3.7878937007874014|       438|       1016|\n",
      "|    Fantasy|3.4873953974895398|       778|       9560|\n",
      "|    Mystery|3.6281553398058253|       573|       6180|\n",
      "|    Musical| 3.570217917675545|       333|       3304|\n",
      "+-----------+------------------+----------+-----------+\n",
      "only showing top 10 rows\n",
      "\n"
     ]
    }
   ],
   "source": [
    "mean_ratings  = (\n",
    "    train_with_genres_exploded\n",
    "        .groupBy(\"genre\")\n",
    "        .agg(\n",
    "                mean(col(\"rating\")).alias(\"genre_rating\"),\n",
    "                countDistinct(\"movieId\").alias(\"num_movies\"),\n",
    "                countDistinct(\"userId\", \"movieId\").alias(\"num_ratings\")\n",
    "        )\n",
    ")\n",
    "mean_ratings.show(10)"
   ]
  },
  {
   "cell_type": "markdown",
   "metadata": {},
   "source": [
    "### **Question 6:**\n",
    "### Can you program a top 10 list of best average rating genres? and a top 10 list of genres with most ratings?"
   ]
  },
  {
   "cell_type": "code",
   "execution_count": 26,
   "metadata": {},
   "outputs": [
    {
     "name": "stdout",
     "output_type": "stream",
     "text": [
      "+-----------+------------------+\n",
      "|      genre|      genre_rating|\n",
      "+-----------+------------------+\n",
      "|  Film-Noir| 3.908440629470672|\n",
      "|        War|3.8031265887137775|\n",
      "|Documentary|3.7878937007874014|\n",
      "|      Crime|3.6534308211473565|\n",
      "|      Drama|3.6531895378424757|\n",
      "|       IMAX| 3.633771275007465|\n",
      "|  Animation| 3.630434782608696|\n",
      "|    Mystery|3.6281553398058253|\n",
      "|    Western|3.6067807351077312|\n",
      "|    Musical| 3.570217917675545|\n",
      "+-----------+------------------+\n",
      "\n"
     ]
    }
   ],
   "source": [
    "top10_genere_rating = mean_ratings.orderBy(desc(\"genre_rating\")).select('genre', \"genre_rating\").limit(10)\n",
    "top10_genere_rating.show()"
   ]
  },
  {
   "cell_type": "code",
   "execution_count": 27,
   "metadata": {},
   "outputs": [
    {
     "name": "stdout",
     "output_type": "stream",
     "text": [
      "+---------+-----------+\n",
      "|    genre|num_ratings|\n",
      "+---------+-----------+\n",
      "|    Drama|      33798|\n",
      "|   Comedy|      31487|\n",
      "|   Action|      24555|\n",
      "| Thriller|      21221|\n",
      "|Adventure|      19344|\n",
      "|  Romance|      14652|\n",
      "|   Sci-Fi|      13734|\n",
      "|    Crime|      13335|\n",
      "|  Fantasy|       9560|\n",
      "| Children|       7424|\n",
      "+---------+-----------+\n",
      "\n"
     ]
    }
   ],
   "source": [
    "top10_num_ratings = mean_ratings.orderBy(desc(\"num_ratings\")).select('genre', \"num_ratings\").limit(10)\n",
    "top10_num_ratings.show()"
   ]
  }
 ],
 "metadata": {
  "kernelspec": {
   "display_name": "Python 3",
   "language": "python",
   "name": "python3"
  },
  "language_info": {
   "codemirror_mode": {
    "name": "ipython",
    "version": 3
   },
   "file_extension": ".py",
   "mimetype": "text/x-python",
   "name": "python",
   "nbconvert_exporter": "python",
   "pygments_lexer": "ipython3",
   "version": "3.8.10"
  }
 },
 "nbformat": 4,
 "nbformat_minor": 4
}
